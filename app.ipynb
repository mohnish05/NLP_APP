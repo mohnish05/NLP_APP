{
 "cells": [
  {
   "cell_type": "code",
   "execution_count": 1,
   "metadata": {},
   "outputs": [],
   "source": [
    "import streamlit as st\n",
    "import os\n",
    "import spacy\n",
    "import en_core_web_sm\n",
    "nlp = en_core_web_sm.load()\n",
    "#import en_core_web_sm\n",
    "# NLP Pkgs\n",
    "from textblob import TextBlob\n",
    "from IPython import get_ipython\n",
    "#import spacy\n",
    "from gensim.summarization import summarize\n",
    "\n",
    "# Sumy Summary Pkg\n",
    "from sumy.parsers.plaintext import PlaintextParser\n",
    "from sumy.nlp.tokenizers import Tokenizer\n",
    "from sumy.summarizers.lex_rank import LexRankSummarizer\n",
    "\n",
    "\n",
    "# Function for Sumy Summarization\n",
    "def sumy_summarizer(docx):\n",
    "    parser = PlaintextParser.from_string(docx, Tokenizer(\"english\"))\n",
    "    lex_summarizer = LexRankSummarizer()\n",
    "    summary = lex_summarizer(parser.document, 3)\n",
    "    summary_list = [str(sentence) for sentence in summary]\n",
    "    result = ' '.join(summary_list)\n",
    "    return result\n",
    "\n",
    "\n",
    "# Function to Analyse Tokens and Lemma\n",
    "\n",
    "def text_analyzer(my_text):\n",
    "    nlp = en_core_web_sm.load()\n",
    "    docx = nlp(my_text)\n",
    "    # tokens = [ token.text for token in docx]\n",
    "    allData = [('\"Token\":{},\\n\"Lemma\":{}'.format(token.text, token.lemma_)) for token in docx]\n",
    "    return allData\n",
    "\n",
    "\n",
    "# Function For Extracting Entities\n",
    "\n",
    "def entity_analyzer(my_text):\n",
    "    nlp = en_core_web_sm.load()\n",
    "    docx = nlp(my_text)\n",
    "    tokens = [token.text for token in docx]\n",
    "    entities = [(entity.text, entity.label_) for entity in docx.ents]\n",
    "    allData = ['\"Token\":{},\\n\"Entities\":{}'.format(tokens, entities)]\n",
    "    return allData\n",
    "\n",
    "\n",
    "def main():\n",
    "    \"\"\" NLP Based App with Streamlit \"\"\"\n",
    "\n",
    "    # Title\n",
    "    st.title(\"NLP with Spacy and Streamlit\")\n",
    "    st.subheader(\"Natural Language Processing for Learning\")\n",
    "    st.markdown(\"\"\"\n",
    "        #### Description\n",
    "        + This is a Natural Language Processing(NLP) Based App useful for basic NLP task\n",
    "        Tokenization,NER,Sentiment,Summarization\n",
    "        \"\"\")\n",
    "\n",
    "    # Tokenization\n",
    "    if st.checkbox(\"Show Tokens and Lemma\"):\n",
    "        st.subheader(\"Tokenize Your Text\")\n",
    "\n",
    "        message = st.text_area(\"Enter Text\", \"Type Here ..\")\n",
    "        if st.button(\"Analyze\"):\n",
    "            nlp_result = text_analyzer(message)\n",
    "            st.json(nlp_result)\n",
    "\n",
    "    # Entity Extraction\n",
    "    if st.checkbox(\"Show Named Entities\"):\n",
    "        st.subheader(\"Analyze Your Text\")\n",
    "\n",
    "        message = st.text_area(\"Enter Text\", \"Type Here ..\")\n",
    "        if st.button(\"Extract\"):\n",
    "            entity_result = entity_analyzer(message)\n",
    "            st.json(entity_result)\n",
    "\n",
    "    # Sentiment Analysis\n",
    "    if st.checkbox(\"Show Sentiment Analysis\"):\n",
    "        st.subheader(\"Analyse Your Text\")\n",
    "\n",
    "        message = st.text_area(\"Enter Text\", \"Type Here ..\")\n",
    "        if st.button(\"Analyze\"):\n",
    "            blob = TextBlob(message)\n",
    "            result_sentiment = blob.sentiment\n",
    "            st.success(result_sentiment)\n",
    "\n",
    "    # Summarization\n",
    "    if st.checkbox(\"Show Text Summarization\"):\n",
    "        st.subheader(\"Summarize Your Text\")\n",
    "\n",
    "        message = st.text_area(\"Enter Text\", \"Type Here ..\")\n",
    "        summary_options = st.selectbox(\"Choose Summarizer\", ['sumy', 'gensim'])\n",
    "        if st.button(\"Summarize\"):\n",
    "            if summary_options == 'gensim':\n",
    "                st.text(\"Using Gensim Summarizer ..\")\n",
    "                summary_result = summarize(message)\n",
    "            else:\n",
    "                st.warning(\"Using Default Summarizer\")\n",
    "                st.text(\"Using Gensim Summarizer ..\")\n",
    "                summary_result = summarize(message)\n",
    "\n",
    "            st.success(summary_result)\n",
    "\n",
    "    st.sidebar.subheader(\"About App\")\n",
    "    st.sidebar.text(\"NLP App with Streamlit\")\n",
    "\n",
    "    st.sidebar.subheader(\"By\")\n",
    "    st.sidebar.text(\"Mohnish\")\n",
    "\n",
    "\n",
    "if __name__ == '__main__':\n",
    "    main()"
   ]
  },
  {
   "cell_type": "code",
   "execution_count": 2,
   "metadata": {},
   "outputs": [
    {
     "name": "stderr",
     "output_type": "stream",
     "text": [
      "[NbConvertApp] Converting notebook app.ipynb to script\n",
      "[NbConvertApp] Writing 3849 bytes to app.py\n"
     ]
    }
   ],
   "source": [
    "get_ipython().system('jupyter nbconvert   --to script app.ipynb')"
   ]
  },
  {
   "cell_type": "code",
   "execution_count": 3,
   "metadata": {},
   "outputs": [
    {
     "name": "stdout",
     "output_type": "stream",
     "text": [
      "^C\n"
     ]
    }
   ],
   "source": [
    "!streamlit run app.py"
   ]
  },
  {
   "cell_type": "code",
   "execution_count": null,
   "metadata": {},
   "outputs": [],
   "source": []
  }
 ],
 "metadata": {
  "kernelspec": {
   "display_name": "Python 3",
   "language": "python",
   "name": "python3"
  },
  "language_info": {
   "codemirror_mode": {
    "name": "ipython",
    "version": 3
   },
   "file_extension": ".py",
   "mimetype": "text/x-python",
   "name": "python",
   "nbconvert_exporter": "python",
   "pygments_lexer": "ipython3",
   "version": "3.8.5"
  }
 },
 "nbformat": 4,
 "nbformat_minor": 4
}
